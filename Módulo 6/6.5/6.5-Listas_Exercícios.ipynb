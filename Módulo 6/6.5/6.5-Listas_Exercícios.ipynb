{
 "cells": [
  {
   "cell_type": "markdown",
   "id": "0d5035b5",
   "metadata": {},
   "source": [
    "# Listas\n",
    "\n",
    "## Aulas 6.1 a 6.5 "
   ]
  },
  {
   "cell_type": "markdown",
   "id": "0bdece85",
   "metadata": {},
   "source": [
    "### Q1. \n",
    "\n",
    "Usando a função embutida ```map``` e criando uma função ```lambda```, transforme uma lista com os raios de múltiplas circunferências em uma nova lista com as respectivas áreas. O cálculo de cada área é dado por: ```pi*(raio**2)```\n",
    "- Use a constante pi da biblioteca math \n",
    "- Arredonde o resultado para 2 casas decimais\n"
   ]
  },
  {
   "cell_type": "code",
   "execution_count": 1,
   "id": "0a258eba",
   "metadata": {},
   "outputs": [
    {
     "name": "stdout",
     "output_type": "stream",
     "text": [
      "[10.6, 1.61, 38.22, 392.7]\n"
     ]
    }
   ],
   "source": [
    "## Complete a solução\n",
    "\n",
    "raios = [1.5, 0.8, 2.3, 5.0]\n",
    "\n",
    "## Complete a solução\n",
    "\n",
    "import math\n",
    "\n",
    "areas = list(map(lambda raio: raio * (math.pi * raio ** 2 ), raios))\n",
    "areas = map(round, areas, [2]*len(areas))\n",
    "print(list(areas))\n"
   ]
  },
  {
   "cell_type": "markdown",
   "id": "649a5082",
   "metadata": {},
   "source": [
    "### Q2. \n",
    "\n",
    "Crie uma função customizada e aplique a função embutida ```filter``` para operar em uma lista de listas contendo os lados de múltiplos triângulos. Construa uma nova lista contendo apenas os triângulos equiláteros, ou seja, com os três lados iguais.\n"
   ]
  },
  {
   "cell_type": "code",
   "execution_count": 2,
   "id": "47cb0573",
   "metadata": {},
   "outputs": [
    {
     "name": "stdout",
     "output_type": "stream",
     "text": [
      "[[2, 2, 2], [4, 4, 4]]\n"
     ]
    }
   ],
   "source": [
    "## Crie a função customizada\n",
    "def testa_equilatero(lados):\n",
    "    return lados[0] == lados[1] == lados [2]\n",
    "\n",
    "### Usando filter, aplique a função customizada aos seguintes triangulos\n",
    "triangulos  = [[2,2,2], [3,4,5], [3,2,2],[4,4,4]]\n",
    "equilateros = list(filter(testa_equilatero, triangulos))\n",
    "print(equilateros)"
   ]
  },
  {
   "cell_type": "markdown",
   "id": "bb62d219",
   "metadata": {},
   "source": [
    "### Q3. \n",
    "Crie uma função chamada ```ordena_por_comprimento``` que aceite uma lista de strings e a ordene com base no comprimento das strings, do menor para o maior. Utilize a função ```sorte``` e uma expressão ```lambda```."
   ]
  },
  {
   "cell_type": "code",
   "execution_count": 3,
   "id": "add41556",
   "metadata": {},
   "outputs": [
    {
     "name": "stdout",
     "output_type": "stream",
     "text": [
      "['Sol', 'Joao', 'Jose', 'Luna', 'Enzo', 'Maria', 'Bento', 'Gabriela', 'Fernanda']\n"
     ]
    }
   ],
   "source": [
    "def ordena_por_comprimento(lista):\n",
    "    lista.sort(key = lambda x: len(x))\n",
    "\n",
    "### aplique sua função à seguinte lista e imprima o resultado\n",
    "nomes = [\"Joao\", \"Maria\", \"Jose\", \"Gabriela\", \"Sol\", \"Luna\", \"Bento\", \"Enzo\", \"Fernanda\"]\n",
    "ordena_por_comprimento(nomes)\n",
    "print(nomes)"
   ]
  },
  {
   "cell_type": "markdown",
   "id": "8710b1a7",
   "metadata": {},
   "source": [
    "### Q4.\n",
    "\n",
    "Crie uma lista de listas (uma matriz de 2 dimensões) de tamanho $n \\times n$, com $n$ dado pelo usuário. Cada elemento da matriz deve ser o produto dos índices da linha pela coluna.\n",
    "\n",
    "Exemplo:\n",
    "```\n",
    "Digite n: 4\n",
    "Matriz:\n",
    "[[0, 0, 0, 0],\n",
    " [0, 1, 2, 3],\n",
    " [0, 2, 4, 6],\n",
    " [0, 3, 6, 9]]\n",
    "```"
   ]
  },
  {
   "cell_type": "code",
   "execution_count": 5,
   "id": "0b7ee921",
   "metadata": {},
   "outputs": [
    {
     "name": "stdout",
     "output_type": "stream",
     "text": [
      "[0, 0]\n",
      "[0, 1]\n"
     ]
    }
   ],
   "source": [
    "# Implemente sua solução aqui\n",
    "\n",
    "n = int(input(\"Digite n: \"))\n",
    "\n",
    "matriz = [[ (linha * coluna) for coluna in range(n)] for linha in range(n)]\n",
    "\n",
    "for i in range(n):\n",
    "    print(matriz[i])"
   ]
  },
  {
   "cell_type": "markdown",
   "id": "f41781df",
   "metadata": {},
   "source": [
    "### Q5.\n",
    "\n",
    "Dada uma lista de números inteiros, implemente uma função em Python chamada ```pares_unicos``` que encontre e retorne todos os pares únicos de elementos na lista cuja soma seja igual a um determinado valor. Considere que a ordem dos pares não é relevante."
   ]
  },
  {
   "cell_type": "code",
   "execution_count": 6,
   "id": "7a76f765",
   "metadata": {},
   "outputs": [
    {
     "name": "stdout",
     "output_type": "stream",
     "text": [
      "[[3, 7], [4, 6], [5, 5]]\n"
     ]
    }
   ],
   "source": [
    "def pares_unicos(numeros, soma_objetivo):\n",
    "    # Implemente sua solução aqui\n",
    "        for i in numeros:\n",
    "            for j in numeros:\n",
    "                if j + i == soma_objetivo:\n",
    "                    novo_par = [i, j]\n",
    "                    if novo_par not in par and novo_par[::-1] not in par:\n",
    "                        par.append(novo_par)\n",
    "        return par\n",
    "# Exemplo de uso:\n",
    "par = []\n",
    "nums = [3, 4, 5, 6, 7]\n",
    "soma = 10\n",
    "resultado = pares_unicos(nums, soma)\n",
    "print(resultado)  # Saída esperada: [(3, 7), (4, 6)]"
   ]
  },
  {
   "cell_type": "markdown",
   "id": "87e44893",
   "metadata": {},
   "source": [
    "### Q5.\n",
    "\n",
    "Escreva um programa para encontrar a diferença entre duas listas, incluindo elementos duplicados.\n",
    "\n",
    "Ex:\n",
    "```\n",
    "Listas originais: \n",
    "[1, 1, 2, 3, 3, 4, 4, 5, 6, 7]\n",
    "[1, 1, 2, 4, 5, 6]\n",
    "Diferença entre as listas:\n",
    "[3, 3, 4, 7]\n",
    "```"
   ]
  },
  {
   "cell_type": "code",
   "execution_count": 8,
   "id": "7edc027c",
   "metadata": {},
   "outputs": [
    {
     "name": "stdout",
     "output_type": "stream",
     "text": [
      "Listas originais:\n",
      "[2, 3]\n",
      "[1, 2, 4]\n",
      "Diferença: [3, 1, 4]\n"
     ]
    }
   ],
   "source": [
    "# Implemente sua solução aqui\n",
    "def diferenca(l1, l2):\n",
    "    l3 = []\n",
    "    for i in l1:\n",
    "        if i not in l2:\n",
    "            l3.append(i)\n",
    "\n",
    "    for i in l2:\n",
    "        if i not in l1:\n",
    "            l3.append(i)\n",
    "    return l3\n",
    "\n",
    "lista1 = []\n",
    "lista2 = []\n",
    "n = int(input(\"Digite o tamanho da lista 1: \"))\n",
    "for i in range(n):\n",
    "    lista1.append(int(input(\"\")))\n",
    "\n",
    "m = int(input(\"Digite o tamanho da lista 2: \"))\n",
    "for i in range(m):\n",
    "    lista2.append(int(input(\"\")))\n",
    "subtracao = diferenca(lista1, lista2)\n",
    "\n",
    "print(\"Listas originais:\")\n",
    "print(lista1)\n",
    "print(lista2)\n",
    "print(f\"Diferença: {subtracao}\")"
   ]
  },
  {
   "cell_type": "markdown",
   "id": "f4c4236d",
   "metadata": {},
   "source": [
    "### Q6.\n",
    "\n",
    "Dada uma lista aleatória, escreva um programa que separa os valores em listas menores de acordo com o tamanho solicitado. Caso não seja possível repartir igualmente a lista original, a última sublista deve conter os elementos remanescentes, como indicado no exemplo a seguir.\n",
    "\n",
    "Note que seu programa deve continuar executando em um laço infinito até que o usuário informe o tamanho 0 na entrada solicitada.\n",
    "\n",
    "```\n",
    "Lista original:\n",
    "[12, 45, 23, 67, 78, 90, 45, 32, 100, 76, 38, 62, 73, 29, 83]\n",
    "\n",
    "Tamanho para divisão: 3\n",
    "Subslistas:\n",
    "[[12, 45, 23], [67, 78, 90], [45, 32, 100], [76, 38, 62], [73, 29, 83]]\n",
    "\n",
    "Tamanho para divisão: 4\n",
    "Subslistas: [[12, 45, 23, 67], [78, 90, 45, 32], [100, 76, 38, 62], [73, 29, 83]]\n",
    "\n",
    "Tamanho para divisão: 0\n",
    "```"
   ]
  },
  {
   "cell_type": "code",
   "execution_count": 12,
   "id": "792563de",
   "metadata": {},
   "outputs": [
    {
     "name": "stdout",
     "output_type": "stream",
     "text": [
      "Lista original:\n",
      "[14, 62, 32, 75, 13, 10, 70, 3, 69, 57, 100, 36, 52, 92, 11, 69, 51, 72, 87, 27]\n",
      "Sublistas:\n",
      "[[14, 62, 32, 75, 13, 10, 70, 3, 69, 57, 100, 36, 52, 92, 11, 69, 51, 72, 87, 27]]\n",
      "Sublistas:\n",
      "[[14, 62], [32, 75], [13, 10], [70, 3], [69, 57], [100, 36], [52, 92], [11, 69], [51, 72], [87, 27]]\n",
      "Sublistas:\n",
      "[[14, 62], [32, 75], [13, 10], [70, 3], [69, 57], [100, 36], [52, 92], [11, 69], [51, 72], [87, 27]]\n",
      "Sublistas:\n",
      "[[14, 62, 32, 75, 13], [10, 70, 3, 69, 57], [100, 36, 52, 92, 11], [69, 51, 72, 87, 27]]\n"
     ]
    }
   ],
   "source": [
    "import random\n",
    "lista = [random.randint(1,100) for i in range(20)]\n",
    "\n",
    "# Implemente sua solução aqui\n",
    "\n",
    "print(\"Lista original:\")\n",
    "print(lista)\n",
    "sub_lista = []\n",
    "while True:\n",
    "    n = int(input(\"Tamanho para divisão: \"))\n",
    "    if n == 0:\n",
    "        break\n",
    "\n",
    "    for i in range(0,20,n):\n",
    "       sub_lista.append(lista[i:i + n:]) \n",
    "    \n",
    "    print(\"Sublistas:\")\n",
    "    print(sub_lista)\n",
    "    sub_lista.clear()"
   ]
  },
  {
   "cell_type": "markdown",
   "id": "c65be32f",
   "metadata": {},
   "source": [
    "### Q7.\n",
    "\n",
    "Você está desenvolvendo um programa para determinar o vencedor de um jogo da velha. Escreva uma função ```avalia_tabuleiro()``` que recebe uma lista representando o estado atual do tabuleiro e determina se há um vencedor. \n",
    "\n",
    "A lista terá 3 sublistas, cada uma representando uma linha do tabuleiro. Cada elemento das sublistas pode ser 'X', 'O' ou vazio (' ').\n",
    "\n",
    "O programa deve imprimir o vencedor ('X', 'O'), se houver um, ou \"Empate\" se não houver vencedor. Um vencedor é determinado se houver três 'X' ou três 'O' em linha (horizontal, vertical ou diagonal).\n",
    "\n",
    "Exemplo:\n",
    "```python\n",
    "tabuleiro = [\n",
    "    ['X', 'O', 'X'],\n",
    "    [' ', 'X', 'O'],\n",
    "    ['O', ' ', 'O']\n",
    "]\n",
    "```\n",
    "O resultado seria \"Empate\", pois não há um vencedor no exemplo fornecido. \n",
    "\n",
    "Exemplo 2:\n",
    "```python\n",
    "tabuleiro = [\n",
    "    ['O', 'X', 'O'],\n",
    "    ['X', 'O', 'X'],\n",
    "    ['X', ' ', 'O']\n",
    "]\n",
    "```\n",
    "O resultado seria \"O\", pois 'O' venceu na diagonal central."
   ]
  },
  {
   "cell_type": "code",
   "execution_count": 13,
   "id": "720ca24d",
   "metadata": {},
   "outputs": [
    {
     "name": "stdout",
     "output_type": "stream",
     "text": [
      "Vencedor: 'X'\n",
      "Vencedor: 'X'\n",
      "Vencedor: 'Empate'\n",
      "Vencedor: 'O'\n",
      "Vencedor: 'Empate'\n"
     ]
    }
   ],
   "source": [
    "def avalia_tabuleiro(jogo):\n",
    "    for i in range(3):\n",
    "        if (jogo[i][0] == jogo[i][1] == jogo[i][2]) and jogo[i][0] != ' ':\n",
    "            return jogo[i][0]\n",
    "    for i in range(3):\n",
    "        if (jogo[0][i] == jogo[1][i] == jogo[2][i]) and jogo[0][1] != ' ':\n",
    "            return jogo[i][0]\n",
    "    if ((jogo[0][0] == jogo[1][1] == jogo[2][2]) or (jogo[2][0] == jogo[1][1] == jogo[0][2])) and jogo[0][1] != ' ':\n",
    "       return jogo[1][1]\n",
    "    else:\n",
    "        return \"Empate\"\n",
    "        \n",
    "        \n",
    "    \n",
    "\n",
    "\n",
    "\n",
    "### teste a função nos seguintes tabuleiros\n",
    "\n",
    "tabuleiro1 = [\n",
    "    ['X', 'O', 'X'],\n",
    "    [' ', 'X', 'O'],\n",
    "    ['O', ' ', 'X']\n",
    "]\n",
    "\n",
    "tabuleiro2 = [\n",
    "    ['X', 'O', 'O'],\n",
    "    ['X', 'X', 'O'],\n",
    "    ['X', 'O', 'X']\n",
    "]\n",
    "\n",
    "tabuleiro3 = [\n",
    "    [' ', ' ', ' '],\n",
    "    ['X', ' ', 'O'],\n",
    "    ['O', 'X', 'X']\n",
    "]\n",
    "\n",
    "tabuleiro4 = [\n",
    "    ['O', 'O', 'O'],\n",
    "    ['X', ' ', 'X'],\n",
    "    ['O', 'X', 'X']\n",
    "]\n",
    "\n",
    "tabuleiro5 = [\n",
    "    ['X', 'X', 'O'],\n",
    "    ['X', ' ', 'O'],\n",
    "    ['O', 'O', 'X']\n",
    "]\n",
    "\n",
    "winner = avalia_tabuleiro(tabuleiro1)\n",
    "print(f\"Vencedor: '{winner}'\")\n",
    "winner = avalia_tabuleiro(tabuleiro2)\n",
    "print(f\"Vencedor: '{winner}'\")\n",
    "winner = avalia_tabuleiro(tabuleiro3)\n",
    "print(f\"Vencedor: '{winner}'\")\n",
    "winner = avalia_tabuleiro(tabuleiro4)\n",
    "print(f\"Vencedor: '{winner}'\")\n",
    "winner = avalia_tabuleiro(tabuleiro5)\n",
    "print(f\"Vencedor: '{winner}'\")"
   ]
  }
 ],
 "metadata": {
  "kernelspec": {
   "display_name": ".venv",
   "language": "python",
   "name": "python3"
  },
  "language_info": {
   "codemirror_mode": {
    "name": "ipython",
    "version": 3
   },
   "file_extension": ".py",
   "mimetype": "text/x-python",
   "name": "python",
   "nbconvert_exporter": "python",
   "pygments_lexer": "ipython3",
   "version": "3.13.5"
  }
 },
 "nbformat": 4,
 "nbformat_minor": 5
}
