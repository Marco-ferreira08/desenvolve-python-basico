{
  "metadata": {
    "kernelspec": {
      "name": "python",
      "display_name": "Python (Pyodide)",
      "language": "python"
    },
    "language_info": {
      "codemirror_mode": {
        "name": "python",
        "version": 3
      },
      "file_extension": ".py",
      "mimetype": "text/x-python",
      "name": "python",
      "nbconvert_exporter": "python",
      "pygments_lexer": "ipython3",
      "version": "3.8"
    }
  },
  "nbformat_minor": 5,
  "nbformat": 4,
  "cells": [
    {
      "id": "41fc366f-1330-4ca4-9adb-df1973cf01d3",
      "cell_type": "code",
      "source": "print(\"Meu primeiro código\")",
      "metadata": {
        "trusted": true
      },
      "outputs": [
        {
          "name": "stdout",
          "output_type": "stream",
          "text": "Meu primeiro código\n"
        }
      ],
      "execution_count": 1
    },
    {
      "id": "b5770af1-4eee-468d-a5f6-9338975b7b23",
      "cell_type": "code",
      "source": "\t\nx = 10\n\ny = 5\n\nprint(x+1)\n\nprint(y-2)\n\nprint(y*x)\n\nprint(x/y)",
      "metadata": {
        "trusted": true
      },
      "outputs": [
        {
          "name": "stdout",
          "output_type": "stream",
          "text": "11\n3\n50\n2.0\n"
        }
      ],
      "execution_count": 2
    },
    {
      "id": "5b1e4d71-5fca-423c-a66f-0ee4880d2d08",
      "cell_type": "code",
      "source": "print(\"Ola",
      "metadata": {
        "trusted": true
      },
      "outputs": [
        {
          "ename": "<class 'SyntaxError'>",
          "evalue": "unterminated string literal (detected at line 1) (<ipython-input-3-692da6fb4462>, line 1)",
          "traceback": [
            "\u001b[0;36m  Cell \u001b[0;32mIn[3], line 1\u001b[0;36m\u001b[0m\n\u001b[0;31m    print(\"Ola\u001b[0m\n\u001b[0m          ^\u001b[0m\n\u001b[0;31mSyntaxError\u001b[0m\u001b[0;31m:\u001b[0m unterminated string literal (detected at line 1)\n"
          ],
          "output_type": "error"
        }
      ],
      "execution_count": 3
    }
  ]
}