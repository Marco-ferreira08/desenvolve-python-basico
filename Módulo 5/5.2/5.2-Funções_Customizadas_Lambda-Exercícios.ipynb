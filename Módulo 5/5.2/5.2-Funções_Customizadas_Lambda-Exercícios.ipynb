{
 "cells": [
  {
   "cell_type": "markdown",
   "id": "cbdff5a5",
   "metadata": {},
   "source": [
    "# Módulo 5 - Funções\n",
    "\n",
    "## Aulas 5.2 - Funções Customizadas e 5.4 Funções ```lambda```"
   ]
  },
  {
   "cell_type": "markdown",
   "id": "28a3fee2",
   "metadata": {},
   "source": [
    "### Q1.\n",
    "\n",
    "- Sabendo que o código a seguir calcula o fatorial de n, escreva uma função chamada ```fatorial()``` que recebe um inteiro ```n``` como parâmetro e retorna o resultado do fatorial de ```n```. \n",
    "- No programa principal, peça ao usuário o valor de ```n```, chame a sua função e imprima o retorno.\n",
    "\n",
    "```python\n",
    "fat = 1\n",
    "for i in range(1, n+1):\n",
    "    fat *= i \n",
    "```"
   ]
  },
  {
   "cell_type": "code",
   "execution_count": null,
   "id": "d126b3a5",
   "metadata": {},
   "outputs": [],
   "source": [
    "## Crie aqui a função fatorial()\n",
    "## lembre-se de executar a célula para que \n",
    "## a função passe a existir e possa ser chamada\n",
    "\n",
    "def fatorial(n):\n",
    "    pass"
   ]
  },
  {
   "cell_type": "code",
   "execution_count": 3,
   "id": "6e4fe64e",
   "metadata": {},
   "outputs": [
    {
     "name": "stdout",
     "output_type": "stream",
     "text": [
      "O fatorial de 7 é 5040.\n"
     ]
    }
   ],
   "source": [
    "## Escreva aqui o programa principal e execute a célula\n",
    "\n",
    "n = int(input(\"Digite um número para calcular seu fatorial: \"))\n",
    "def fatorial(n):\n",
    "    if n == 0 or n == 1:\n",
    "        return 1\n",
    "    else:\n",
    "        return n * fatorial(n - 1)\n",
    "resultado = fatorial(n)\n",
    "print(f\"O fatorial de {n} é {resultado}.\")"
   ]
  },
  {
   "cell_type": "markdown",
   "id": "c0a1f599",
   "metadata": {},
   "source": [
    "### Q2.\n",
    "\n",
    "- Escreva uma função em Python chamada ```soma_quadrados``` que recebe dois números como parâmetros e retorna a soma dos seus quadrados. \n",
    "- No programa principal solicite ao usuário que insira dois números e utilize a função para exibir a soma dos quadrados."
   ]
  },
  {
   "cell_type": "code",
   "execution_count": null,
   "id": "6dbddaad",
   "metadata": {},
   "outputs": [],
   "source": [
    "## Crie aqui a função soma_quadrados()\n",
    "def soma_quadrados(a, b):\n",
    "    return a**2 + b**2"
   ]
  },
  {
   "cell_type": "code",
   "execution_count": 5,
   "id": "9175a7da",
   "metadata": {},
   "outputs": [
    {
     "name": "stdout",
     "output_type": "stream",
     "text": [
      "A soma dos quadrados de 5 e 10 é 125.\n"
     ]
    }
   ],
   "source": [
    "## Escreva aqui o programa principal e execute a célula\n",
    "\n",
    "x = int(input(\"Digite o primeiro número: \"))\n",
    "y = int(input(\"Digite o segundo número: \"))\n",
    "\n",
    "def soma_quadrados(a, b):\n",
    "    return a**2 + b**2\n",
    "\n",
    "resultado = soma_quadrados(x, y)\n",
    "print(f\"A soma dos quadrados de {x} e {y} é {resultado}.\")"
   ]
  },
  {
   "cell_type": "markdown",
   "id": "6ba34ce0",
   "metadata": {},
   "source": [
    "### Q3.\n",
    "\n",
    "- Crie uma função em Python chamada ```soma_digitos``` que recebe um número inteiro como parâmetro e retorna a soma dos seus dígitos. Por exemplo, para o número 123, a função deve retornar 6, $(1 + 2 + 3)$.\n",
    "    - O desafio aqui é separar os dígitos de um número inteiro usando operações aritméticas <br> <br>\n",
    "\n",
    "- No programa principal solicite ao usuário que insira um número e utilize a função ```soma_digitos``` para calcular e exibir a soma dos seus dígitos."
   ]
  },
  {
   "cell_type": "code",
   "execution_count": null,
   "id": "34838ebf",
   "metadata": {},
   "outputs": [],
   "source": [
    "## Crie aqui a função soma_digitos()\n",
    "\n",
    "def soma_digitos_multiplos(numeros):\n",
    "    total = 0\n",
    "    for numero in numeros:\n",
    "        total += sum(int(d) for d in str(abs(numero)))\n",
    "    return total"
   ]
  },
  {
   "cell_type": "code",
   "execution_count": 7,
   "id": "27c35b21",
   "metadata": {},
   "outputs": [
    {
     "name": "stdout",
     "output_type": "stream",
     "text": [
      "A soma dos dígitos de todos os números é 17.\n"
     ]
    }
   ],
   "source": [
    "## Escreva aqui o programa principal e execute a célula\n",
    "\n",
    "entrada = input(\"Digite vários números inteiros separados por espaço: \")\n",
    "lista_numeros = [int(num) for num in entrada.split()]\n",
    "\n",
    "def soma_digitos_multiplos(numeros):\n",
    "    total = 0\n",
    "    for numero in numeros:\n",
    "        total += sum(int(d) for d in str(abs(numero)))\n",
    "    return total\n",
    "\n",
    "resultado = soma_digitos_multiplos(lista_numeros)\n",
    "print(f\"A soma dos dígitos de todos os números é {resultado}.\")"
   ]
  },
  {
   "cell_type": "markdown",
   "id": "c318b159",
   "metadata": {},
   "source": [
    "### Q4.\n",
    "\n",
    "- Crie a função ```inverteValor()``` que recebe um inteiro de qualquer tamanho e retorna esse valor invertido usando apenas operações aritméticas\n",
    "- Crie a função ```verificaInverso()``` que recebe o valor original e o valor invertido e retorna verdadeiro se ambos forem igualmente par ou igualmente ímpar. Retorne falso caso contrário.\n",
    "- No programa principal, peça um valor do usuário e imprima o retorno de ambas as funções.\n"
   ]
  },
  {
   "cell_type": "code",
   "execution_count": null,
   "id": "e4e47d1d",
   "metadata": {},
   "outputs": [],
   "source": [
    "## Crie aqui as funções inverteValor() e verificaInverso()\n",
    "\n",
    "# Inverter valor \n",
    "def inverterValor(n):\n",
    "    invertido = 0\n",
    "    sinal = -1 if n < 0 else 1\n",
    "    n = abs(n)\n",
    "    \n",
    "    while n > 0:\n",
    "        digito = n % 10\n",
    "        invertido = invertido * 10 + digito\n",
    "        n //= 10\n",
    "\n",
    "    return sinal * invertido\n",
    "\n",
    "# Verificar se o valor é inverso\n",
    "def verificaInverso(n):\n",
    "    inv = inverterValor(n)\n",
    "    return (n % 2 == 0 and inv % 2 == 0) or (n % 2 == 1 and inv % 2 == 1)"
   ]
  },
  {
   "cell_type": "code",
   "execution_count": 10,
   "id": "a9514e56",
   "metadata": {},
   "outputs": [
    {
     "name": "stdout",
     "output_type": "stream",
     "text": [
      "O inverso de 543 é 345.\n",
      "A paridade é igual? True\n"
     ]
    }
   ],
   "source": [
    "## Escreva aqui o programa principal e execute a célula\n",
    "def inverterValor(n):\n",
    "    invertido = 0\n",
    "    sinal = -1 if n < 0 else 1\n",
    "    n = abs(n)\n",
    "    \n",
    "    while n > 0:\n",
    "        digito = n % 10\n",
    "        invertido = invertido * 10 + digito\n",
    "        n //= 10\n",
    "\n",
    "    return sinal * invertido\n",
    "def verificaInverso(n):\n",
    "    inv = inverterValor(n)\n",
    "    return (n % 2 == 0 and inv % 2 == 0) or (n % 2 == 1 and inv % 2 == 1)\n",
    "\n",
    "numero = int(input(\"Digite um número: \"))\n",
    "inverso = inverterValor(numero)\n",
    "verificacao = verificaInverso(numero)\n",
    "\n",
    "\n",
    "print(f\"O inverso de {numero} é {inverso}.\")\n",
    "print(f\"A paridade é igual? {verificacao}\")"
   ]
  },
  {
   "cell_type": "markdown",
   "id": "329be966",
   "metadata": {},
   "source": [
    "### Q5.\n",
    "\n",
    "Você está desenvolvendo um programa para auxiliar em cálculos de geometria básica. Crie as seguintes funções:\n",
    "- A função ```calcula_perimetro_triangulo()``` que recebe três inteiros correspondentes aos lados de um triângulo e retorna o perímetro do triângulo, ou seja, a soma dos seus lados.\n",
    "- A função ```calcula_perimetro_circulo()``` que recebe um inteiro referente ao raio do círculo e retorna o perímetro do círculo, dado por $2 \\pi r$. Use a constante $\\pi$ da biblioteca ```math```.\n",
    "- A função ```calcula_perimetro_retangulo()``` que possui um parâmetro obrigatório ```lado1``` e um opcional ```lado2```, ambos inteiros. Se o valor opcional não for fornecido, significa que se trata de um quadrado. Sua função deve calcular e retornar o perímetro do retângulo, ou seja, a soma de seus lados. \n",
    "    - Para o quadrado, é dado por $4 \\times lado1$\n",
    "    - Para o retângulo é dado por $2 \\times lado1 + 2 \\times lado2$\n",
    "    \n",
    "- No programa principal apresente um menu com as opções disponíveis do seu sistema e uma quarta opção ```Sair```. Solicite ao usuário a opção desejada, solicite as entradas correspondentes à opção escolhida, invoque a respective função e apresente o seu retorno. Seu programa deve retornar ao menu até que o usuário escolha a opção ```Sair```\n",
    "\n",
    "Exemplo de interação:\n",
    "```\n",
    "1 - Calcular perímetro triângulo\n",
    "2 - Calcular perímetro círculo\n",
    "3 - Calcular perímetro retângulo\n",
    "4 - Sair\n",
    "\n",
    "Opção: 1\n",
    "Digite os três lados do triângulo:\n",
    "3\n",
    "4\n",
    "5\n",
    "O perímetro é: 12\n",
    "\n",
    "1 - Calcular perímetro triângulo\n",
    "2 - Calcular perímetro círculo\n",
    "3 - Calcular perímetro retângulo\n",
    "4 - Sair\n",
    "\n",
    "Opção: 3\n",
    "Informe os dois lados do retângulo. Se for um quadrado, digite 0 para o segundo valor:\n",
    "5\n",
    "0\n",
    "O perímetro é: 20\n",
    "\n",
    "1 - Calcular perímetro triângulo\n",
    "2 - Calcular perímetro círculo\n",
    "3 - Calcular perímetro retângulo\n",
    "4 - Sair\n",
    "\n",
    "Opção: 4\n",
    "```"
   ]
  },
  {
   "cell_type": "code",
   "execution_count": null,
   "id": "0793d328",
   "metadata": {},
   "outputs": [],
   "source": [
    "## Crie aqui as funções \n",
    "\n",
    "import math\n",
    "\n",
    "def calcula_perimetro_triangulo(a, b, c):\n",
    "    return a + b + c\n",
    "\n",
    "def calcula_perimetro_circulo(raio):\n",
    "    return 2 * math.pi * raio\n",
    "\n",
    "def calcula_perimetro_retangulo(lado1, lado2=0):\n",
    "    if lado2 == 0:\n",
    "        return 4 * lado1  # Quadrado\n",
    "    else:\n",
    "        return 2 * (lado1 + lado2)  # Retângulo\n"
   ]
  },
  {
   "cell_type": "code",
   "execution_count": 12,
   "id": "36269c71",
   "metadata": {},
   "outputs": [
    {
     "name": "stdout",
     "output_type": "stream",
     "text": [
      "\n",
      "1 - Calcular perímetro triângulo\n",
      "2 - Calcular perímetro círculo\n",
      "3 - Calcular perímetro retângulo\n",
      "4 - Sair\n",
      "O perímetro é: 251.33\n",
      "\n",
      "1 - Calcular perímetro triângulo\n",
      "2 - Calcular perímetro círculo\n",
      "3 - Calcular perímetro retângulo\n",
      "4 - Sair\n",
      "Digite os três lados do triângulo:\n",
      "O perímetro é: 15\n",
      "\n",
      "1 - Calcular perímetro triângulo\n",
      "2 - Calcular perímetro círculo\n",
      "3 - Calcular perímetro retângulo\n",
      "4 - Sair\n",
      "Informe os dois lados do retângulo. Se for um quadrado, digite 0 para o segundo valor:\n",
      "O perímetro é: 9674\n",
      "\n",
      "1 - Calcular perímetro triângulo\n",
      "2 - Calcular perímetro círculo\n",
      "3 - Calcular perímetro retângulo\n",
      "4 - Sair\n",
      "Digite os três lados do triângulo:\n",
      "O perímetro é: 10\n",
      "\n",
      "1 - Calcular perímetro triângulo\n",
      "2 - Calcular perímetro círculo\n",
      "3 - Calcular perímetro retângulo\n",
      "4 - Sair\n",
      "Encerrando o programa. Até logo!\n"
     ]
    }
   ],
   "source": [
    "## Escreva aqui o programa principal \n",
    "\n",
    "import math\n",
    "\n",
    "def calcula_perimetro_triangulo(a, b, c):\n",
    "    return a + b + c\n",
    "\n",
    "def calcula_perimetro_circulo(raio):\n",
    "    return 2 * math.pi * raio\n",
    "\n",
    "def calcula_perimetro_retangulo(lado1, lado2=0):\n",
    "    if lado2 == 0:\n",
    "        return 4 * lado1  # Quadrado\n",
    "    else:\n",
    "        return 2 * (lado1 + lado2)  # Retângulo\n",
    "    \n",
    "\n",
    "while True:\n",
    "    print(\"\\n1 - Calcular perímetro triângulo\")\n",
    "    print(\"2 - Calcular perímetro círculo\")\n",
    "    print(\"3 - Calcular perímetro retângulo\")\n",
    "    print(\"4 - Sair\")\n",
    "    \n",
    "    opcao = input(\"Opção: \")\n",
    "    \n",
    "    if opcao == \"1\":\n",
    "        print(\"Digite os três lados do triângulo:\")\n",
    "        a = int(input(\"Lado 1: \"))\n",
    "        b = int(input(\"Lado 2: \"))\n",
    "        c = int(input(\"Lado 3: \"))\n",
    "        perimetro = calcula_perimetro_triangulo(a, b, c)\n",
    "        print(f\"O perímetro é: {perimetro}\")\n",
    "\n",
    "    elif opcao == \"2\":\n",
    "        raio = int(input(\"Digite o raio do círculo: \"))\n",
    "        perimetro = calcula_perimetro_circulo(raio)\n",
    "        print(f\"O perímetro é: {perimetro:.2f}\")\n",
    "\n",
    "    elif opcao == \"3\":\n",
    "        print(\"Informe os dois lados do retângulo. Se for um quadrado, digite 0 para o segundo valor:\")\n",
    "        lado1 = int(input(\"Lado 1: \"))\n",
    "        lado2 = int(input(\"Lado 2 (ou 0 se for quadrado): \"))\n",
    "        perimetro = calcula_perimetro_retangulo(lado1, lado2)\n",
    "        print(f\"O perímetro é: {perimetro}\")\n",
    "\n",
    "    elif opcao == \"4\":\n",
    "        print(\"Encerrando o programa. Até logo!\")\n",
    "        break\n",
    "\n",
    "    else:\n",
    "        print(\"Opção inválida. Tente novamente.\")"
   ]
  },
  {
   "cell_type": "markdown",
   "id": "3016bcc7",
   "metadata": {},
   "source": [
    "## Funções ```lambda```"
   ]
  },
  {
   "cell_type": "markdown",
   "id": "f9cdb8dd",
   "metadata": {},
   "source": [
    "### Q6.\n",
    "\n",
    "Crie uma função lambda para verificar se um número é par ou ímpar. Em seguida, solicite ao usuário um número indefinidos de valores (até que o usuário digite 0). Para cada valor de entrada, informe se é par ou ímpar.\n",
    "\n",
    "Exemplo de interação:\n",
    "```\n",
    "Digite os valores que deseja verificar a paridade (digite 0 para finalizar a entrada de dados):\n",
    "3\n",
    "ímpar\n",
    "8\n",
    "par\n",
    "12\n",
    "par\n",
    "5\n",
    "ímpar\n",
    "7ímpar\n",
    "```"
   ]
  },
  {
   "cell_type": "code",
   "execution_count": 15,
   "id": "e3c31a78",
   "metadata": {},
   "outputs": [
    {
     "name": "stdout",
     "output_type": "stream",
     "text": [
      "O número 3 é Ímpar.\n",
      "O número 2 é Par.\n",
      "O número 657248325273812274182474 é Par.\n"
     ]
    }
   ],
   "source": [
    "# crie uma f lambida que verifica se o numero é par ou impar e depois solicite ao user um numero indefinidos de valores ate que ele digite 0 Para cada valor digitado, informe se é par ou impar\n",
    "\n",
    "verifica_par_impar = lambda x: \"Par\" if x % 2 == 0 else \"Ímpar\"\n",
    "while True:\n",
    "    numero = int(input(\"Digite um número (0 para sair): \"))\n",
    "    if numero == 0:\n",
    "        break\n",
    "    resultado = verifica_par_impar(numero)\n",
    "    print(f\"O número {numero} é {resultado}.\")\n",
    "    \n"
   ]
  },
  {
   "cell_type": "markdown",
   "id": "5a87474d",
   "metadata": {},
   "source": [
    "### Q7.\n",
    "\n",
    "Escreva um programa que pergunte ao usuário qual operação ele deseja: maior ou menor.\n",
    "Em seguida leia uma quantidade indefinida de valores do usuário, até que o usuário digite o valor zero.\n",
    "Apresente ao final o maior ou menor dos valores digitados de acordo com a escolha do usuário.\n",
    "\n",
    "**Sua solução deve incluir pelo menos uma função ```lambda```** \n",
    "\n",
    "Exemplo de interação:\n",
    "```\n",
    "Opções: (1) maior ou (2) menor?\n",
    "Opção: 1\n",
    "\n",
    "Digite os valores de entrada. Digite 0 para finalizar a entrada de valores.\n",
    "4\n",
    "12\n",
    "15\n",
    "1\n",
    "0\n",
    "\n",
    "O maior valor é: 15\n",
    "```"
   ]
  },
  {
   "cell_type": "code",
   "execution_count": 18,
   "id": "ee3f68ca",
   "metadata": {},
   "outputs": [
    {
     "name": "stdout",
     "output_type": "stream",
     "text": [
      "O menor valor digitado foi: -4.0\n"
     ]
    }
   ],
   "source": [
    "\n",
    "def obter_valores():\n",
    "    valores = []\n",
    "    while True:\n",
    "        try:\n",
    "            n = float(input(\"Digite um número (0 para sair): \"))\n",
    "            if n == 0:\n",
    "                break\n",
    "            valores.append(n)\n",
    "        except ValueError:\n",
    "            print(\"Entrada inválida! Digite um número válido.\")\n",
    "    return valores\n",
    "\n",
    "# Programa principal\n",
    "escolha = input(\"Você deseja encontrar o 'maior' ou o 'menor' valor? \").strip().lower()\n",
    "operacoes = {\n",
    "    \"maior\": lambda lista: max(lista),\n",
    "    \"menor\": lambda lista: min(lista)\n",
    "}\n",
    "\n",
    "if escolha not in operacoes:\n",
    "    print(\"Escolha inválida. Use 'maior' ou 'menor'.\")\n",
    "else:\n",
    "    valores = obter_valores()\n",
    "    \n",
    "    if not valores:\n",
    "        print(\"Nenhum valor foi digitado.\")\n",
    "    else:\n",
    "        resultado = operacoes[escolha](valores)\n",
    "        print(f\"O {escolha} valor digitado foi: {resultado}\")"
   ]
  }
 ],
 "metadata": {
  "kernelspec": {
   "display_name": ".venv",
   "language": "python",
   "name": "python3"
  },
  "language_info": {
   "codemirror_mode": {
    "name": "ipython",
    "version": 3
   },
   "file_extension": ".py",
   "mimetype": "text/x-python",
   "name": "python",
   "nbconvert_exporter": "python",
   "pygments_lexer": "ipython3",
   "version": "3.13.5"
  }
 },
 "nbformat": 4,
 "nbformat_minor": 5
}
