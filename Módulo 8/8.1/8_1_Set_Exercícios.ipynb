{
  "cells": [
    {
      "cell_type": "markdown",
      "id": "0d5035b5",
      "metadata": {
        "id": "0d5035b5"
      },
      "source": [
        "# Set\n",
        "\n",
        "## Aula 8.1"
      ]
    },
    {
      "cell_type": "markdown",
      "id": "0bdece85",
      "metadata": {
        "id": "0bdece85"
      },
      "source": [
        "### Q1.\n",
        "\n",
        "Dada uma string qualquer, use seu conhecimento de sets para apresentar os caracteres únicos que aparecem na string, ordenados alfabeticamente e sem duplicatas. Preste atenção em duplicatas de maiúsculas e minúsculas.\n"
      ]
    },
    {
      "cell_type": "code",
      "execution_count": null,
      "id": "0a258eba",
      "metadata": {
        "colab": {
          "base_uri": "https://localhost:8080/"
        },
        "id": "0a258eba",
        "outputId": "6fa7da8d-b816-46f7-bd95-aed50e7e64d2"
      },
      "outputs": [
        {
          "output_type": "stream",
          "name": "stdout",
          "text": [
            "[' ', 'a', 'b', 'd', 'e', 'n', 'o', 'p', 'r', 's', 't', 'u']\n"
          ]
        }
      ],
      "source": [
        "frase = \"O rato roeu a roupa do Robson\"\n",
        "\n",
        "## Implemente aqui sua solução\n",
        "\n",
        "caracteres = set(frase.lower())\n",
        "print(sorted(caracteres))"
      ]
    },
    {
      "cell_type": "markdown",
      "id": "0856bd56",
      "metadata": {
        "id": "0856bd56"
      },
      "source": [
        "### Q2\n",
        "\n",
        "Desenvolva uma função em Python chamada ```tem_elementos_comuns()``` que recebe duas listas como parâmetros e retorna True se houver algum elemento comum entre as duas listas, e False caso contrário. Utilize sets para resolver essa tarefa."
      ]
    },
    {
      "cell_type": "code",
      "execution_count": 7,
      "id": "f7ab6736",
      "metadata": {
        "id": "f7ab6736"
      },
      "outputs": [],
      "source": [
        "# Implemente aqui a função tem_elementos_comuns()\n",
        "def tem_elementos_comuns(l1, l2):\n",
        "    l1 = set(l1)\n",
        "    l2 = set(l2)\n",
        "    interseccao = l1.intersection(l2)\n",
        "\n",
        "    return len(interseccao) > 0"
      ]
    },
    {
      "cell_type": "code",
      "execution_count": 8,
      "id": "1022744a",
      "metadata": {
        "colab": {
          "base_uri": "https://localhost:8080/"
        },
        "id": "1022744a",
        "outputId": "97374c70-3d80-4bd4-abc7-3ce98dd0fab9"
      },
      "outputs": [
        {
          "output_type": "stream",
          "name": "stdout",
          "text": [
            "True\n"
          ]
        }
      ],
      "source": [
        "# Execute esta célula para testar a função da Q2.\n",
        "\n",
        "lista1 = [1, 2, 6, 4]\n",
        "lista2 = [3, 4, 5, 6, 7]\n",
        "resultado = tem_elementos_comuns(lista1, lista2)\n",
        "print(resultado)  # Saída esperada: True"
      ]
    },
    {
      "cell_type": "markdown",
      "id": "649a5082",
      "metadata": {
        "id": "649a5082"
      },
      "source": [
        "### Q3.\n",
        "\n",
        "Você vai coletar de diferentes turmas de alunos seus interesses em atividades extra curriculares dentre futebol, vôlei, rugby, música, teatro, ações comunitárias. Informe o conjunto de atividades comuns a todas a turmas. Pode preencher o iterável turmas com valores arbitrários.\n"
      ]
    },
    {
      "cell_type": "code",
      "execution_count": 14,
      "id": "880a9927",
      "metadata": {
        "id": "880a9927",
        "colab": {
          "base_uri": "https://localhost:8080/"
        },
        "outputId": "68f85611-aa42-421b-f868-2c503ff827be"
      },
      "outputs": [
        {
          "output_type": "stream",
          "name": "stdout",
          "text": [
            "{'handbol', 'rugby'}\n"
          ]
        }
      ],
      "source": [
        "turmas = [\n",
        "     {'ações comunitárias', 'futebol', 'música', 'rugby', 'handbol'},\n",
        "     {'handbol', 'ações comunitárias', 'música', 'rugby', 'teatro',},\n",
        "     {'música', 'rugby', 'handbol', 'teatro', 'vôlei'},\n",
        "     {'música', 'vôlei', 'rugby', 'handbol'},\n",
        "     {'ações comunitárias', 'futebol', 'rugby', 'teatro', 'handbol', 'vôlei'},\n",
        "     {'ações comunitárias', 'handbol', 'futebol', 'rugby'},\n",
        "     {'ações comunitárias', 'rugby', 'teatro', 'vôlei', 'handbol'},\n",
        "     {'ações comunitárias', 'handbol', 'rugby', 'teatro', 'vôlei'},\n",
        "     {'handbol', 'ações comunitárias', 'rugby', 'vôlei'}\n",
        "]\n",
        "\n",
        "\n",
        "## Implemente aqui sua solução\n",
        "\n",
        "comum = {}\n",
        "for i in turmas:\n",
        "  if turmas.index(i) == 0:\n",
        "    comum = i\n",
        "    continue\n",
        "\n",
        "  comum = comum.intersection(i)\n",
        "\n",
        "print(comum)"
      ]
    },
    {
      "cell_type": "markdown",
      "id": "021e2b1e",
      "metadata": {
        "id": "021e2b1e"
      },
      "source": [
        "### Q4.\n",
        "Considere duas listas que são duplicatas uma da outra, exceto por um elemento, exemplo:\n",
        "```\n",
        "A = [1, 4, 5, 7, 9]\n",
        "B = [4, 5, 7, 9]\n",
        "```\n",
        "\n",
        "Encontre e apresente o elemento diferente, informando também qual das listas está desfalcada. Para o exemplo acima, a saída esperada é\n",
        "```\n",
        "O elemento 1 está faltando na segunda lista\n",
        "```"
      ]
    },
    {
      "cell_type": "code",
      "execution_count": 22,
      "id": "608761a4",
      "metadata": {
        "id": "608761a4",
        "colab": {
          "base_uri": "https://localhost:8080/"
        },
        "outputId": "a4c3753a-b754-4802-c782-47e48d438cd0"
      },
      "outputs": [
        {
          "output_type": "stream",
          "name": "stdout",
          "text": [
            "O elemento 1 está faltando na primeira lista\n"
          ]
        }
      ],
      "source": [
        "## Implemente aqui sua solução\n",
        "\n",
        "A = [1, 4, 5, 7, 9]\n",
        "B = [4, 5, 7, 9]\n",
        "\n",
        "A2 = set(A)\n",
        "B2 = set(B)\n",
        "\n",
        "AB = A2.intersection(B2)\n",
        "diferenca = {}\n",
        "\n",
        "if A2.issubset(AB) == False:\n",
        "    errada = \"primeira\"\n",
        "    diferenca = A2.difference(AB)\n",
        "\n",
        "elif B2.issubset(AB) == False:\n",
        "    errada = \"segunda\"\n",
        "    diferenca = B2.difference(AB)\n",
        "\n",
        "\n",
        "if len(diferenca) < 1:\n",
        "    print(\"As listas são idênticas\")\n",
        "\n",
        "else:\n",
        "    diferenca = str(diferenca)[1]\n",
        "    print (f\"O elemento {diferenca} está faltando na {errada} lista\")"
      ]
    },
    {
      "cell_type": "markdown",
      "id": "ddf180c1",
      "metadata": {
        "id": "ddf180c1"
      },
      "source": [
        "### Q5.\n",
        "\n",
        "Panagramas são frases que contém todas as letras do alfabeto pelo menos uma vez. Crie uma função ```checa_panagrama``` que recebe uma string e retorna ```True``` caso seja um panagrama ou ```False```caso contrário. Use seu conhecimento de sets para solucionar essa questão.\n",
        "\n",
        "Ex:\n",
        "```\n",
        "Entrada: \"The quick brown fox jumps over the lazy dog\"\n",
        "Saída: É um panagrama\n",
        "```\n",
        "\n",
        "```\n",
        "Entrada: \"Python é uma linguagem de programação\"\n",
        "Saída: Não é um panagrama\n",
        "```"
      ]
    },
    {
      "cell_type": "code",
      "execution_count": 36,
      "id": "4e8b0390",
      "metadata": {
        "id": "4e8b0390",
        "colab": {
          "base_uri": "https://localhost:8080/"
        },
        "outputId": "52364bef-7f50-4efc-9753-2cc8f7df2575"
      },
      "outputs": [
        {
          "output_type": "stream",
          "name": "stdout",
          "text": [
            "Digite uma frase: The quick brown fox jumps over the lazy dog\n",
            "Sua frase é um panagrama\n"
          ]
        }
      ],
      "source": [
        "## Implemente aqui sua solução\n",
        "\n",
        "alfabeto = set([(chr(i)) for i in range(97, 123)])\n",
        "frase = input(\"Digite uma frase: \")\n",
        "frase_set = set(frase.lower())\n",
        "frase_set.remove(\" \")\n",
        "panagrama = frase_set.issuperset(alfabeto)\n",
        "\n",
        "if panagrama:\n",
        "    print(\"Sua frase é um panagrama\")\n",
        "else:\n",
        "    print(\"Sua frase não é um panagrama\")"
      ]
    }
  ],
  "metadata": {
    "kernelspec": {
      "display_name": "Python 3 (ipykernel)",
      "language": "python",
      "name": "python3"
    },
    "language_info": {
      "codemirror_mode": {
        "name": "ipython",
        "version": 3
      },
      "file_extension": ".py",
      "mimetype": "text/x-python",
      "name": "python",
      "nbconvert_exporter": "python",
      "pygments_lexer": "ipython3",
      "version": "3.9.6"
    },
    "colab": {
      "provenance": []
    }
  },
  "nbformat": 4,
  "nbformat_minor": 5
}