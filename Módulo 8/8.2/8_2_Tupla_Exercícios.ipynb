{
  "cells": [
    {
      "cell_type": "markdown",
      "id": "0d5035b5",
      "metadata": {
        "id": "0d5035b5"
      },
      "source": [
        "# Tupla\n",
        "\n",
        "## Aula 8.2"
      ]
    },
    {
      "cell_type": "markdown",
      "id": "0bdece85",
      "metadata": {
        "id": "0bdece85"
      },
      "source": [
        "### Q1.\n",
        "\n",
        "Escreva uma função ```calcula_area_perimetro``` que recebe **apenas um parâmetro** ```dimensoes``` e calcula a área e o perímetro a partir das dimensões dadas.\n",
        "- ```dimensoes``` é uma tupla (largura, comprimento) com as dimensões de um terreno retangular\n",
        "- Sua função deve calcular e retornar as seguintes operações\n",
        "   - $area = largura \\times comprimento$\n",
        "   - $perimetro = 2\\times(largura + comprimento)$\n"
      ]
    },
    {
      "cell_type": "code",
      "execution_count": null,
      "id": "0a258eba",
      "metadata": {
        "id": "0a258eba"
      },
      "outputs": [],
      "source": [
        "# Implemente aqui a função calcula_area_perimetro\n",
        "def calcula_area_perimetro(tupla):\n",
        "    l, c = tupla\n",
        "    return l * c, 2 * (largura + comprimento)"
      ]
    },
    {
      "cell_type": "code",
      "execution_count": null,
      "id": "e1866c04",
      "metadata": {
        "colab": {
          "base_uri": "https://localhost:8080/"
        },
        "id": "e1866c04",
        "outputId": "430ade41-e0a4-4888-c878-968b90349ec3"
      },
      "outputs": [
        {
          "output_type": "stream",
          "name": "stdout",
          "text": [
            "Área e perímetro: (35, 24), Tipo: <class 'tuple'>\n"
          ]
        }
      ],
      "source": [
        "# Complete o exemplo de uso abaixo\n",
        "largura = 5\n",
        "comprimento = 7\n",
        "medidas = (largura, comprimento)\n",
        "\n",
        "retorno = calcula_area_perimetro(medidas) ## complete aqui a chamada da função\n",
        "print(f\"Área e perímetro: {retorno}, Tipo: {type(retorno)}\")"
      ]
    },
    {
      "cell_type": "markdown",
      "id": "cbdcb986",
      "metadata": {
        "id": "cbdcb986"
      },
      "source": [
        "### Q2.\n",
        "\n",
        "Dada uma string, imprima todas as vogais que aparecem na string, bem como todos os índices onde elas ocorrem. Para isso, use a função ```enumerate```.\n"
      ]
    },
    {
      "cell_type": "code",
      "execution_count": null,
      "id": "1f6b1f2d",
      "metadata": {
        "colab": {
          "base_uri": "https://localhost:8080/"
        },
        "id": "1f6b1f2d",
        "outputId": "2a618e7d-70c5-4b80-b420-834355b0ad5f"
      },
      "outputs": [
        {
          "output_type": "stream",
          "name": "stdout",
          "text": [
            "0 - o\n",
            "3 - a\n",
            "5 - o\n",
            "8 - o\n",
            "9 - e\n",
            "10 - u\n",
            "12 - a\n",
            "15 - o\n",
            "16 - u\n",
            "18 - a\n",
            "21 - a\n",
            "23 - a\n",
            "25 - i\n",
            "27 - e\n"
          ]
        }
      ],
      "source": [
        "frase = \"O rato roeu a roupa da Alice\"\n",
        "\n",
        "# Implemente aqui sua solução\n",
        "vogais = (\"a\", \"e\", \"i\", \"o\", \"u\")\n",
        "frase_quebrada = tuple(frase.lower())\n",
        "\n",
        "for item in enumerate(frase_quebrada):\n",
        "    cont, letra = item\n",
        "    if letra in vogais:\n",
        "      print(str(cont) + \" - \" + str(letra))"
      ]
    },
    {
      "cell_type": "markdown",
      "id": "8d46663f",
      "metadata": {
        "id": "8d46663f"
      },
      "source": [
        "### Q3.\n",
        "\n",
        "Escreva uma função em Python chamada ```ordenar_tuplas``` que recebe uma lista de tuplas, cada uma contendo o nome de um aluno e sua respectiva média, e retorna uma nova lista ordenada em ordem decrescente de médias."
      ]
    },
    {
      "cell_type": "code",
      "execution_count": null,
      "id": "469f2e6e",
      "metadata": {
        "id": "469f2e6e"
      },
      "outputs": [],
      "source": [
        "# Implemente aqui a função ordenar_tuplas\n",
        "def ordenar_tuplas(lista):\n",
        "\n",
        "    return sorted(lista, key=lambda aluno: aluno[1], reverse=True)\n",
        "\n"
      ]
    },
    {
      "cell_type": "code",
      "execution_count": null,
      "id": "1972c62b",
      "metadata": {
        "colab": {
          "base_uri": "https://localhost:8080/"
        },
        "id": "1972c62b",
        "outputId": "aaff4ba5-24d9-42f8-ef64-44321c17829b"
      },
      "outputs": [
        {
          "output_type": "stream",
          "name": "stdout",
          "text": [
            "[('Charlie', 9.0), ('David', 8.8), ('Alice', 8.5), ('Bob', 7.2)]\n"
          ]
        }
      ],
      "source": [
        "# Exemplo de uso:\n",
        "alunos_notas = [('Alice', 8.5), ('Bob', 7.2), ('Charlie', 9.0), ('David', 8.8)]\n",
        "resultado = ordenar_tuplas(alunos_notas)\n",
        "print(resultado)\n",
        "# Saída esperada: [('Charlie', 9.0), ('David', 8.8), ('Alice', 8.5), ('Bob', 7.2)]"
      ]
    },
    {
      "cell_type": "markdown",
      "id": "e0268fae",
      "metadata": {
        "id": "e0268fae"
      },
      "source": [
        "### Q4.\n",
        "\n",
        "Escreva uma função em Python chamada ```comprimir_tuplas``` que recebe uma lista de tuplas, cada uma contendo uma palavra e um número, e retorna uma nova lista de tuplas onde palavras idênticas são agrupadas e seus números são somados.\n",
        "\n"
      ]
    },
    {
      "cell_type": "code",
      "execution_count": null,
      "id": "30a221f3",
      "metadata": {
        "id": "30a221f3"
      },
      "outputs": [],
      "source": [
        "# Implemente aqui a função comprimir_tuplas\n",
        "\n",
        "def comprimir_tuplas(frutas):\n",
        "    frutas_somadas = []\n",
        "    for fruta in frutas:\n",
        "        soma = [fruta[0], fruta[1]]\n",
        "        for i in range(frutas.index(fruta) + 1, len(frutas)):\n",
        "            if fruta[0] == frutas[i][0]:\n",
        "                soma[1] += frutas[i][1]\n",
        "        frutaJaExiste = False\n",
        "\n",
        "        for item in frutas_somadas:\n",
        "            if item[0] != soma[0]:\n",
        "                continue\n",
        "            elif item[0] == soma[0]:\n",
        "                frutaJaExiste = True\n",
        "\n",
        "        if frutaJaExiste == False:\n",
        "            frutas_somadas.append(tuple(soma))\n",
        "    return frutas_somadas\n"
      ]
    },
    {
      "cell_type": "code",
      "execution_count": null,
      "id": "80972bac",
      "metadata": {
        "colab": {
          "base_uri": "https://localhost:8080/"
        },
        "id": "80972bac",
        "outputId": "62cd0f29-3440-451a-abc3-7e7136f432f1"
      },
      "outputs": [
        {
          "output_type": "stream",
          "name": "stdout",
          "text": [
            "[('maçã', 8), ('banana', 5), ('laranja', 1)]\n"
          ]
        }
      ],
      "source": [
        "# Exemplo de uso:\n",
        "tuplas_originais = [('maçã', 3), ('banana', 2), ('maçã', 5), ('laranja', 1), ('banana', 3)]\n",
        "resultado = comprimir_tuplas(tuplas_originais)\n",
        "print(resultado)\n",
        "# Saída esperada: [('maçã', 8), ('banana', 5), ('laranja', 1)]"
      ]
    },
    {
      "cell_type": "markdown",
      "id": "649a5082",
      "metadata": {
        "id": "649a5082"
      },
      "source": [
        "### Q5.\n",
        "\n",
        "- Escreva um script que peça o nome e a idade de todos na fila de uma balada. Crie uma lista de tuplas com os pares ```(nome, idade)``` de cada um.\n",
        "- Em seguida crie e imprima duas tuplas apenas com os nomes, uma com os menores de idade que não poderão entrar, e uma com os maiores de idade (```idade >= 18```).\n",
        "\n"
      ]
    },
    {
      "cell_type": "code",
      "execution_count": null,
      "id": "47cb0573",
      "metadata": {
        "colab": {
          "base_uri": "https://localhost:8080/"
        },
        "id": "47cb0573",
        "outputId": "71508be8-4f18-4cf9-938f-2a90ab76c182"
      },
      "outputs": [
        {
          "output_type": "stream",
          "name": "stdout",
          "text": [
            "Digite o número de pessoas na fila: 5\n",
            "Digite o nome da pessoa: Carla\n",
            "Digite a idade: 25\n",
            "Digite o nome da pessoa: Afonso\n",
            "Digite a idade: 10\n",
            "Digite o nome da pessoa: Ezio\n",
            "Digite a idade: 8\n",
            "Digite o nome da pessoa: Joana\n",
            "Digite a idade: 18\n",
            "Digite o nome da pessoa: Jorginho\n",
            "Digite a idade: 19\n",
            "Maiores de idade: ('Carla', 'Joana', 'Jorginho')\n",
            "Menores de idade: ('Afonso', 'Ezio')\n"
          ]
        }
      ],
      "source": [
        "## Implemente aqui sua solução\n",
        "\n",
        "n = int(input(\"Digite o número de pessoas na fila: \"))\n",
        "\n",
        "\n",
        "pessoas = []\n",
        "for i in range(n):\n",
        "    nome = input(\"Digite o nome da pessoa: \")\n",
        "    idade = int(input(\"Digite a idade: \"))\n",
        "    pessoas.append((nome, idade))\n",
        "\n",
        "maiores_de_idade = tuple(pessoa[0] for pessoa in pessoas if pessoa[1] >= 18)\n",
        "menores_de_idade = tuple(pessoa[0] for pessoa in pessoas if pessoa[1] < 18)\n",
        "\n",
        "print(f\"Maiores de idade: {maiores_de_idade}\")\n",
        "print(f\"Menores de idade: {menores_de_idade}\")"
      ]
    }
  ],
  "metadata": {
    "kernelspec": {
      "display_name": "Python 3 (ipykernel)",
      "language": "python",
      "name": "python3"
    },
    "language_info": {
      "codemirror_mode": {
        "name": "ipython",
        "version": 3
      },
      "file_extension": ".py",
      "mimetype": "text/x-python",
      "name": "python",
      "nbconvert_exporter": "python",
      "pygments_lexer": "ipython3",
      "version": "3.9.6"
    },
    "colab": {
      "provenance": []
    }
  },
  "nbformat": 4,
  "nbformat_minor": 5
}