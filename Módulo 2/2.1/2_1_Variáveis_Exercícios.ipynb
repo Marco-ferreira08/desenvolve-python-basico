{
  "cells": [
    {
      "cell_type": "markdown",
      "id": "a9d28135",
      "metadata": {
        "id": "a9d28135"
      },
      "source": [
        "# Módulo 2\n",
        "## 2.1 Variáveis\n",
        "\n",
        "### Q1.\n",
        "Selecione todos os itens a seguir que contém nomes válidos de variáveis. Lembre-se que alguns nomes com estrutura válida são palavras reservadas da linguagem e portanto não podem nomear variáveis.\n",
        "\n",
        "    a) nome_completo\n",
        "    b) quantidade@produtos\n",
        "    c) idade\n",
        "    d) soma idades\n",
        "    e) MediaNotas\n",
        "    f) _tipo\n",
        "    g) 2total\n",
        "    h) lambda"
      ]
    },
    {
      "cell_type": "code",
      "execution_count": 1,
      "id": "23ab7106",
      "metadata": {
        "colab": {
          "base_uri": "https://localhost:8080/"
        },
        "id": "23ab7106",
        "outputId": "e5f1acf9-9d58-445e-d43b-e3852c805a2c"
      },
      "outputs": [
        {
          "name": "stdout",
          "output_type": "stream",
          "text": [
            " a c e f g \n"
          ]
        }
      ],
      "source": [
        "# Preencha o print com as alternativas corretas\n",
        "# separadas por espaços em branco.\n",
        "# Ex: print(\"a b c\")\n",
        "print(\" a c e f g \")"
      ]
    },
    {
      "cell_type": "markdown",
      "id": "f56d2b28",
      "metadata": {
        "id": "f56d2b28"
      },
      "source": [
        "---\n",
        "### Q2.\n",
        "Dados os scripts a seguir, faça:\n",
        "- Para os scripts corretos escreva o resultado impresso ao final da execução\n",
        "- Para os incorretos descreva todos os erros identificados apontando a linha onde cada erro acontece.\n"
      ]
    },
    {
      "cell_type": "markdown",
      "id": "a2f2461b",
      "metadata": {
        "id": "a2f2461b"
      },
      "source": [
        "```python\n",
        "# Script 1\n",
        "x = 10\n",
        "y = x + 2\n",
        "print(y - 5)\n",
        "```"
      ]
    },
    {
      "cell_type": "code",
      "execution_count": 2,
      "id": "4371ac7b",
      "metadata": {
        "colab": {
          "base_uri": "https://localhost:8080/"
        },
        "id": "4371ac7b",
        "outputId": "d0b2a35c-c3a4-408d-e683-5742fceb646c"
      },
      "outputs": [
        {
          "name": "stdout",
          "output_type": "stream",
          "text": [
            " 7 \n"
          ]
        }
      ],
      "source": [
        "# preencha o print com sua resposta\n",
        "print(\" 7 \")"
      ]
    },
    {
      "cell_type": "markdown",
      "id": "b38baa9c",
      "metadata": {
        "id": "b38baa9c"
      },
      "source": [
        "```python\n",
        "# Script 2\n",
        "soma = n1 + n2\n",
        "print(soma)\n",
        "```"
      ]
    },
    {
      "cell_type": "code",
      "execution_count": 3,
      "id": "82b5064b",
      "metadata": {
        "colab": {
          "base_uri": "https://localhost:8080/"
        },
        "id": "82b5064b",
        "outputId": "8366e2ea-5170-4521-a19a-e40bbbed8d00"
      },
      "outputs": [
        {
          "name": "stdout",
          "output_type": "stream",
          "text": [
            " O erro está na primeira linha abaixo de #Script 2, pois, apesar da sintaxe estar correta, as variáveis n1 e n2 não existem dentro do script apresentado. \n"
          ]
        }
      ],
      "source": [
        "# preencha o print com sua resposta\n",
        "print(\" O erro está na primeira linha abaixo de #Script 2, pois, apesar da sintaxe estar correta, as variáveis n1 e n2 não existem dentro do script apresentado. \")"
      ]
    },
    {
      "cell_type": "markdown",
      "id": "c2f3ab7a",
      "metadata": {
        "id": "c2f3ab7a"
      },
      "source": [
        "```python\n",
        "# Script 3\n",
        "a = 10\n",
        "a = a + 1\n",
        "print(a)\n",
        "```"
      ]
    },
    {
      "cell_type": "code",
      "execution_count": 4,
      "id": "7b9db0c7",
      "metadata": {
        "id": "7b9db0c7"
      },
      "outputs": [
        {
          "name": "stdout",
          "output_type": "stream",
          "text": [
            " 11 \n"
          ]
        }
      ],
      "source": [
        "# preencha o print com sua resposta\n",
        "print(\" 11 \")"
      ]
    },
    {
      "cell_type": "markdown",
      "id": "dd40d2c9",
      "metadata": {
        "id": "dd40d2c9"
      },
      "source": [
        "```python\n",
        "# Script 4\n",
        "saldo da conta = 1500\n",
        "0.1 = juros\n",
        "print(saldo da conta * juros)\n",
        "```"
      ]
    },
    {
      "cell_type": "code",
      "execution_count": 5,
      "id": "2dec64ac",
      "metadata": {
        "colab": {
          "base_uri": "https://localhost:8080/"
        },
        "id": "2dec64ac",
        "outputId": "c99b1f0e-c865-45eb-ce6b-452cbd51851e"
      },
      "outputs": [
        {
          "name": "stdout",
          "output_type": "stream",
          "text": [
            " Na primeira linha abaixo de #Script 4, o nome da variável não é válido, pois há a presença de espaços, sendo que são aceitos apenas letras, números e -underlines- para nomear variáveis. Na segunda linha o nome da variável está à direita do sinal de igualdade e o seu valor está à esquerda, sendo que o nome deve ficar à esquerda e o valor à direita, tratando-se, portanto, de um erro. \n"
          ]
        }
      ],
      "source": [
        "# preencha o print com sua resposta\n",
        "print(\" Na primeira linha abaixo de #Script 4, o nome da variável não é válido, pois há a presença de espaços, sendo que são aceitos apenas letras, números e -underlines- para nomear variáveis. Na segunda linha o nome da variável está à direita do sinal de igualdade e o seu valor está à esquerda, sendo que o nome deve ficar à esquerda e o valor à direita, tratando-se, portanto, de um erro. \")"
      ]
    },
    {
      "cell_type": "markdown",
      "id": "9ba1f2a8",
      "metadata": {
        "id": "9ba1f2a8"
      },
      "source": [
        "---\n",
        "### Q3.\n",
        "Declare três variáveis, `num1`, `num2` e `num3`, com valores inteiros numéricos de sua escolha. Calcule e imprima a média desses três números. Utilize a fórmula: `(num1 + num2 + num3) / 3`."
      ]
    },
    {
      "cell_type": "code",
      "execution_count": 6,
      "id": "e1963351",
      "metadata": {
        "colab": {
          "base_uri": "https://localhost:8080/"
        },
        "id": "e1963351",
        "outputId": "f1e5a159-cf0c-4548-de7c-252aa52f87ff"
      },
      "outputs": [
        {
          "name": "stdout",
          "output_type": "stream",
          "text": [
            "6.0\n"
          ]
        }
      ],
      "source": [
        "## Escreva e execute seu código aqui\n",
        "num1 = 5\n",
        "num2 = 10\n",
        "num3 = 3\n",
        "media = (num1 + num2 + num3) / 3\n",
        "print(media)"
      ]
    },
    {
      "cell_type": "markdown",
      "id": "7940ba20",
      "metadata": {
        "id": "7940ba20"
      },
      "source": [
        "---\n",
        "### Q4.\n",
        "Escreva um script python que:\n",
        "- Armazene em uma variável uma velocidade de 90 km/h\n",
        "- Calcule e armazene o equivalente em m/s\n",
        "    - Divida o valor original por 3.6 para obter o resultado em m/s. Em python a sintaxe da divisão e atribuição é c = a / b\n",
        "- Imprima na tela a velocidade o resultado m/s\n"
      ]
    },
    {
      "cell_type": "code",
      "execution_count": 7,
      "id": "dd4fe7ae",
      "metadata": {
        "colab": {
          "base_uri": "https://localhost:8080/"
        },
        "id": "dd4fe7ae",
        "outputId": "a6eed5dc-0795-48f1-d872-914f6913a153"
      },
      "outputs": [
        {
          "name": "stdout",
          "output_type": "stream",
          "text": [
            "90km/h em metros por segundo corresponde a:\n",
            "25.0\n"
          ]
        }
      ],
      "source": [
        "## Escreva e execute seu código aqui\n",
        "kmh= 90\n",
        "ms= kmh/3.6\n",
        "print(\"90km/h em metros por segundo corresponde a:\")\n",
        "print(ms)"
      ]
    },
    {
      "cell_type": "markdown",
      "id": "cc714a42",
      "metadata": {
        "id": "cc714a42"
      },
      "source": [
        "---\n",
        "### Q5.\n",
        "Escreva um script python que:\n",
        "- Armazene o seu nome em uma variável\n",
        "    - Dica: para armazenar textos em variáveis basta colocar a palavra desejada entre aspas, ex: \"Camila\", à direita do operador de atribuição.\n",
        "- Imprima o texto \"Meu nome é:\"\n",
        "- Imprima a variável com seu nome\n"
      ]
    },
    {
      "cell_type": "code",
      "execution_count": 8,
      "id": "10a6a794",
      "metadata": {
        "colab": {
          "base_uri": "https://localhost:8080/"
        },
        "id": "10a6a794",
        "outputId": "953d080a-388a-4cea-dde3-2aa83d38a65e"
      },
      "outputs": [
        {
          "name": "stdout",
          "output_type": "stream",
          "text": [
            "Meu nome é:\n",
            "Marco Antônio\n"
          ]
        }
      ],
      "source": [
        "## Escreva e execute seu código aqui\n",
        "nome= \"Marco Antônio\"\n",
        "print(\"Meu nome é:\")\n",
        "print(nome)"
      ]
    }
  ],
  "metadata": {
    "colab": {
      "provenance": []
    },
    "kernelspec": {
      "display_name": ".venv",
      "language": "python",
      "name": "python3"
    },
    "language_info": {
      "codemirror_mode": {
        "name": "ipython",
        "version": 3
      },
      "file_extension": ".py",
      "mimetype": "text/x-python",
      "name": "python",
      "nbconvert_exporter": "python",
      "pygments_lexer": "ipython3",
      "version": "3.13.3"
    }
  },
  "nbformat": 4,
  "nbformat_minor": 5
}
