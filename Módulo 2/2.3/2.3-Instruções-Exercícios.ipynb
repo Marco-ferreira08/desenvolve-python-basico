{
  "cells": [
    {
      "cell_type": "markdown",
      "metadata": {
        "id": "1pCTdOHonv5f"
      },
      "source": [
        "# Módulo 2\n",
        "\n",
        "## 2.3 Instruções e Expressões\n",
        "\n",
        "### Q1\n",
        "\n",
        "Faça um programa que armazene o valor de 20 reais de salário por hora de um trabalhador, e o número de 40 horas trabalhadas na semana. Com essas informações, calcule e imprima:\n",
        "- Salário semanal bruto\n",
        "- Valor descontado por semana INSS (10% do bruto)\n",
        "- Valor descontado por semana pelo sindicato (5% do bruto)\n",
        "- Salário semanal líquido (Bruto - Descontos)"
      ]
    },
    {
      "cell_type": "code",
      "execution_count": 1,
      "metadata": {
        "id": "hVbX0I97nj6M"
      },
      "outputs": [
        {
          "name": "stdout",
          "output_type": "stream",
          "text": [
            "Salário Semanal Bruto = 800\n",
            "Desconto de INSS por Semana = 80.0\n",
            "Desconto Semanal pelo sindicato = 40.0\n",
            "Desconto Total por Semana = 120.0\n",
            "Salário Semanal Líquido = 680.0\n"
          ]
        }
      ],
      "source": [
        "SH = 20\n",
        "HT = 40 \n",
        "\n",
        "SSB = SH * HT \n",
        "print(\"Salário Semanal Bruto =\", SSB)\n",
        "\n",
        "D = SSB * 0.1 \n",
        "print(\"Desconto de INSS por Semana =\", D)\n",
        "\n",
        "SI = SSB * 0.05 \n",
        "print(\"Desconto Semanal pelo sindicato =\", SI)\n",
        "\n",
        "DT = D + SI \n",
        "print(\"Desconto Total por Semana =\", DT)\n",
        "\n",
        "SSL = SSB - DT\n",
        "print(\"Salário Semanal Líquido =\", SSL)"
      ]
    },
    {
      "cell_type": "markdown",
      "metadata": {
        "id": "pIxKX9J2oGZ1"
      },
      "source": [
        "### Q2\n",
        "\n",
        "Altere o programa anterior para a partir dos valores de horas trabalhadas por semana e salário por hora, calcular **em somente duas instruções**:\n",
        "- Salário semanal bruto\n",
        "- Salário semanal líquido com todos os descontos. Para a segunda instrução, realize todos os cálculos aritméticos em uma expressão composta.\n"
      ]
    },
    {
      "cell_type": "code",
      "execution_count": 2,
      "metadata": {
        "id": "pAHw9Xf9oGoi"
      },
      "outputs": [
        {
          "name": "stdout",
          "output_type": "stream",
          "text": [
            "Salário semanal bruto é 800 reais\n",
            "Salário semanal líquido é 680.0 reais\n"
          ]
        }
      ],
      "source": [
        "S = 20\n",
        "CH = 40\n",
        "SB = S * CH\n",
        "SL = SB - ( ( SB * 0.10 ) + ( SB * 0.05 ) )\n",
        "print(\"Salário semanal bruto é\", SB, \"reais\")\n",
        "print(\"Salário semanal líquido é\", SL, \"reais\")"
      ]
    },
    {
      "cell_type": "markdown",
      "metadata": {
        "id": "m8tlHRuWpBOB"
      },
      "source": [
        "### Q3\n",
        "\n",
        "Você está desenvolvendo um software de conversão de moeda e precisa calcular o valor equivalente em yuan chinês a partir de uma quantia em real. A taxa de câmbio é de 0.69 BRL (real) para 1 CNY (yuan). Escreva um programa que define em uma variável uma quantia em reais (BRL) e calcula o valor equivalente em yuan (CNY). Imprima o resultado."
      ]
    },
    {
      "cell_type": "code",
      "execution_count": 3,
      "metadata": {
        "id": "2bPw7uF6oeL9"
      },
      "outputs": [
        {
          "name": "stdout",
          "output_type": "stream",
          "text": [
            "Valor em real é 100 reais\n",
            "Valor em Yuan é 69.0 reais\n"
          ]
        }
      ],
      "source": [
        "BRL = 100\n",
        "C = 0.69\n",
        "CNY = BRL * C\n",
        "print(\"Valor em real é\", BRL, \"reais\")\n",
        "print(\"Valor em Yuan é\", CNY, \"reais\")"
      ]
    },
    {
      "cell_type": "markdown",
      "metadata": {
        "id": "-Na3ltDCp74A"
      },
      "source": [
        "### Q4\n",
        "\n",
        "Você é um treinador de corrida e deseja calcular a velocidade média que um atleta precisa manter para completar a Maratona Internacional de São Silvestre, que tem uma distância total de 42.195 km. A fórmula para calcular a velocidade média ($v\\_media$) é dada por $v\\_media = \\frac{distancia}{tempo}$ . Escreva um programa em Python para calcular a velocidade média necessária para completar a maratona em 3 horas.\n",
        "\n",
        "**Calcule e imprima o resultado em metros/segundo**, ou seja, converta a distância de quilômetros para metros ($metro = \\frac{km}{1000}$) e a velocidade de horas para segundos $(segundo = \\frac{hora}{3600})$."
      ]
    },
    {
      "cell_type": "code",
      "execution_count": 4,
      "metadata": {
        "id": "Bn6l8kcSrE4L"
      },
      "outputs": [
        {
          "name": "stdout",
          "output_type": "stream",
          "text": [
            "50.634\n"
          ]
        }
      ],
      "source": [
        "DT = 42.195/1000\n",
        "T = 3/3600\n",
        "VM = DT/T\n",
        "print (VM)"
      ]
    }
  ],
  "metadata": {
    "colab": {
      "provenance": []
    },
    "kernelspec": {
      "display_name": ".venv",
      "language": "python",
      "name": "python3"
    },
    "language_info": {
      "codemirror_mode": {
        "name": "ipython",
        "version": 3
      },
      "file_extension": ".py",
      "mimetype": "text/x-python",
      "name": "python",
      "nbconvert_exporter": "python",
      "pygments_lexer": "ipython3",
      "version": "3.13.5"
    }
  },
  "nbformat": 4,
  "nbformat_minor": 0
}
